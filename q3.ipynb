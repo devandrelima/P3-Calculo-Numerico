{
 "cells": [
  {
   "cell_type": "code",
   "execution_count": 1,
   "metadata": {},
   "outputs": [
    {
     "name": "stdout",
     "output_type": "stream",
     "text": [
      "Resultado: 0.7162747991746524\n"
     ]
    }
   ],
   "source": [
    "\n",
    "import math\n",
    "\n",
    "def boole(f, a, b, n):\n",
    "    h = (b - a) / n\n",
    "    soma = 0\n",
    "    \n",
    "    for i in range(0, n, 5):\n",
    "        x0 = a + i * h\n",
    "        x1 = x0 + h\n",
    "        x2 = x1 + h\n",
    "        x3 = x2 + h\n",
    "        x4 = x3 + h\n",
    "        x5 = x4 + h\n",
    "        \n",
    "        soma += (19 * f(x0) + 75 * f(x1) + 50 * f(x2) + 50 * f(x3) + 75 * f(x4) + 19 * f(x5))\n",
    "    \n",
    "    soma *= 5 * h / 288\n",
    "    return soma\n",
    "\n",
    "def f(x):\n",
    "    return math.sin(x)\n",
    "\n",
    "a = 0 \n",
    "b = 5  \n",
    "n = 10\n",
    "\n",
    "result = boole(f, a, b, n)\n",
    "\n",
    "print(\"Resultado:\", result)"
   ]
  }
 ],
 "metadata": {
  "kernelspec": {
   "display_name": "Python 3",
   "language": "python",
   "name": "python3"
  },
  "language_info": {
   "codemirror_mode": {
    "name": "ipython",
    "version": 3
   },
   "file_extension": ".py",
   "mimetype": "text/x-python",
   "name": "python",
   "nbconvert_exporter": "python",
   "pygments_lexer": "ipython3",
   "version": "3.12.4"
  }
 },
 "nbformat": 4,
 "nbformat_minor": 2
}
