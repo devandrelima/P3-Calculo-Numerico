{
 "cells": [
  {
   "cell_type": "code",
   "execution_count": 1,
   "metadata": {},
   "outputs": [
    {
     "name": "stdout",
     "output_type": "stream",
     "text": [
      "Integral Simpson 3/8:  659400.0\n",
      "Integral ponto central 665600.0\n"
     ]
    }
   ],
   "source": [
    "# Tabulando os dados\n",
    "x     = [0,  80,  160,  240,  320,  400,  480,  560,  640,  720,  800,  880,  960, 1040, 1120, 1200]\n",
    "y_pos = [0,   0,    0,    0,    0,  480,  480,  480,  255,  230,  220,  190,  190,  230,  190,    0]\n",
    "y_neg = [0, -85, -160, -315, -325, -250, -250, -330, -480, -620, -640, -650, -415, -370, -245, -240]\n",
    "\n",
    "a = x[0] # limite inferior \n",
    "b = x[-1] # limite superior\n",
    "n = len(x) - 1 # número de partições\n",
    "\n",
    "def f_pos(y):\n",
    "    # Retorna o valor de y_pos na coordenada x\n",
    "    return y_pos[x.index(y)]\n",
    "\n",
    "def f_neg(y):\n",
    "    # Retorna o valor de y_neg na coordenada x\n",
    "    return y_neg[x.index(y)]\n",
    "\n",
    " # Integral simspson 3/8\n",
    "def integral_simpson_3_8(a,b,n,f):\n",
    "    deltax = (b - a) / n\n",
    "\n",
    "    soma1 = 0\n",
    "    soma2 = 0\n",
    "    soma3 = 0\n",
    "    j = 3\n",
    "    for i in range(0, n + 1):\n",
    "        x = a + deltax * i\n",
    "        if i == 0 or i == n:\n",
    "            soma1 += f(x)\n",
    "        elif i != j:\n",
    "            soma2 += 3 * f(x)\n",
    "        else:\n",
    "            soma3 += 2 * f(x)\n",
    "            j += 3\n",
    "\n",
    "    soma = (soma1 + soma2 + soma3) * (deltax * 3 / 8)\n",
    "    return soma\n",
    "\n",
    "\n",
    "def ponto_central(a,b,n,f,x):\n",
    "    deltax = (b - a) / n\n",
    "    soma = 0\n",
    "    for i in range(0, n+1):\n",
    "        soma += f(x[i]) * deltax\n",
    "    return soma\n",
    "\n",
    "\n",
    "print(\"Integral Simpson 3/8: \",  integral_simpson_3_8(a,b,n,f_pos) - integral_simpson_3_8(a,b,n,f_neg))\n",
    "print(\"Integral ponto central\", ponto_central(a,b,n,f_pos,x) - ponto_central(a,b,n,f_neg,x))"
   ]
  }
 ],
 "metadata": {
  "kernelspec": {
   "display_name": "Python 3",
   "language": "python",
   "name": "python3"
  },
  "language_info": {
   "codemirror_mode": {
    "name": "ipython",
    "version": 3
   },
   "file_extension": ".py",
   "mimetype": "text/x-python",
   "name": "python",
   "nbconvert_exporter": "python",
   "pygments_lexer": "ipython3",
   "version": "3.12.4"
  }
 },
 "nbformat": 4,
 "nbformat_minor": 2
}
